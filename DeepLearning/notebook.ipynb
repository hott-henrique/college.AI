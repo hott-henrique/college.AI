{
  "cells": [
    {
      "cell_type": "code",
      "execution_count": 2,
      "metadata": {
        "id": "4141df48-6c9e-47b8-8a4b-cd6146a1064b"
      },
      "outputs": [],
      "source": [
        "import keras\n",
        "\n",
        "import tensorflow as tf\n",
        "import matplotlib.pyplot as plt\n",
        "import numpy as np"
      ],
      "id": "4141df48-6c9e-47b8-8a4b-cd6146a1064b"
    },
    {
      "cell_type": "code",
      "execution_count": 3,
      "metadata": {
        "id": "10cc92a3-0818-4e3a-a30a-102f6b8f6c63"
      },
      "outputs": [],
      "source": [
        "EPOCHS = 10\n",
        "BATCH_SIZE = 64\n",
        "OPTIMIZER = tf.keras.optimizers.Adam\n",
        "OPTIMIZER_PARAMS = dict(learning_rate=0.001)"
      ],
      "id": "10cc92a3-0818-4e3a-a30a-102f6b8f6c63"
    },
    {
      "cell_type": "code",
      "execution_count": 4,
      "metadata": {
        "id": "560f9b4e-b7a5-4475-8acb-b617d7dfd363"
      },
      "outputs": [],
      "source": [
        "(x_train, y_train), (x_test, y_test) = tf.keras.datasets.mnist.load_data(path=\"mnist.npz\")"
      ],
      "id": "560f9b4e-b7a5-4475-8acb-b617d7dfd363"
    },
    {
      "cell_type": "code",
      "execution_count": 5,
      "metadata": {
        "id": "yaIljlVufNPR"
      },
      "outputs": [],
      "source": [
        "(x_train, x_test) = x_train.astype(np.float32) / 255.0, x_test.astype(np.float32) / 255.0"
      ],
      "id": "yaIljlVufNPR"
    },
    {
      "cell_type": "code",
      "execution_count": 6,
      "metadata": {
        "id": "a79e3484-734e-4cd3-8439-dbe814f3fd75"
      },
      "outputs": [],
      "source": [
        "(y_train, y_test) = tf.keras.utils.to_categorical(y_train), keras.utils.to_categorical(y_test)"
      ],
      "id": "a79e3484-734e-4cd3-8439-dbe814f3fd75"
    },
    {
      "cell_type": "code",
      "execution_count": 7,
      "metadata": {
        "colab": {
          "base_uri": "https://localhost:8080/",
          "height": 406
        },
        "id": "55c23427-3fce-4d00-9016-5b4d8b14d6de",
        "outputId": "c2c6b143-788f-48e3-a2c2-d9e4416938bb"
      },
      "outputs": [
        {
          "output_type": "display_data",
          "data": {
            "text/plain": [
              "<Figure size 640x480 with 9 Axes>"
            ],
            "image/png": "[encoded data removed]"
          },
          "metadata": {}
        }
      ],
      "source": [
        "plt.figure()\n",
        "\n",
        "for i in range(9):\n",
        "    idx_img = np.random.randint(len(x_train))\n",
        "\n",
        "    plt.subplot(3, 3, i + 1)\n",
        "    plt.axis(\"off\")\n",
        "    plt.imshow(x_train[idx_img])\n",
        "\n",
        "plt.show()"
      ],
      "id": "55c23427-3fce-4d00-9016-5b4d8b14d6de"
    },
    {
      "cell_type": "code",
      "execution_count": 8,
      "metadata": {
        "colab": {
          "base_uri": "https://localhost:8080/"
        },
        "id": "e52e17c0-4839-40de-95ef-24c1ab06aa7d",
        "outputId": "b6c47137-087c-4b5b-ce45-7aaac4687e72"
      },
      "outputs": [
        {
          "output_type": "stream",
          "name": "stdout",
          "text": [
            "Model: \"sequential\"\n",
            "_________________________________________________________________\n",
            " Layer (type)                Output Shape              Param #   \n",
            "=================================================================\n",
            " flatten (Flatten)           (None, 784)               0         \n",
            "                                                                 \n",
            " dense (Dense)               (None, 512)               401920    \n",
            "                                                                 \n",
            " dense_1 (Dense)             (None, 256)               131328    \n",
            "                                                                 \n",
            " dense_2 (Dense)             (None, 124)               31868     \n",
            "                                                                 \n",
            " dense_3 (Dense)             (None, 10)                1250      \n",
            "                                                                 \n",
            "=================================================================\n",
            "Total params: 566366 (2.16 MB)\n",
            "Trainable params: 566366 (2.16 MB)\n",
            "Non-trainable params: 0 (0.00 Byte)\n",
            "_________________________________________________________________\n"
          ]
        }
      ],
      "source": [
        "dnn_classifier = tf.keras.Sequential([ tf.keras.Input(shape=(28, 28, 1)),\n",
        "                                       tf.keras.layers.Flatten(),\n",
        "                                       tf.keras.layers.Dense(512, activation='relu'),\n",
        "                                       tf.keras.layers.Dense(256, activation='relu'),\n",
        "                                       tf.keras.layers.Dense(124, activation='relu'),\n",
        "                                       tf.keras.layers.Dense(10, activation='softmax') ])\n",
        "\n",
        "dnn_classifier.summary()"
      ],
      "id": "e52e17c0-4839-40de-95ef-24c1ab06aa7d"
    },
    {
      "cell_type": "code",
      "execution_count": 9,
      "metadata": {
        "id": "527e22fb-7f21-4804-9d81-a60869508099"
      },
      "outputs": [],
      "source": [
        "dnn_classifier.compile(loss=tf.keras.losses.categorical_crossentropy,\n",
        "                       optimizer=OPTIMIZER(**OPTIMIZER_PARAMS),\n",
        "                       metrics=[ 'accuracy' ])"
      ],
      "id": "527e22fb-7f21-4804-9d81-a60869508099"
    },
    {
      "cell_type": "code",
      "execution_count": 10,
      "metadata": {
        "colab": {
          "base_uri": "https://localhost:8080/"
        },
        "id": "95969da5-c444-4170-926c-f9adee6f834d",
        "outputId": "cb3739d7-7896-4d37-e236-1c0baf96d25d"
      },
      "outputs": [
        {
          "output_type": "stream",
          "name": "stdout",
          "text": [
            "Epoch 1/10\n",
            "938/938 [==============================] - 19s 17ms/step - loss: 0.2037 - accuracy: 0.9380\n",
            "Epoch 2/10\n",
            "938/938 [==============================] - 10s 11ms/step - loss: 0.0825 - accuracy: 0.9751\n",
            "Epoch 3/10\n",
            "938/938 [==============================] - 11s 12ms/step - loss: 0.0575 - accuracy: 0.9816\n",
            "Epoch 4/10\n",
            "938/938 [==============================] - 12s 13ms/step - loss: 0.0440 - accuracy: 0.9859\n",
            "Epoch 5/10\n",
            "938/938 [==============================] - 11s 11ms/step - loss: 0.0337 - accuracy: 0.9893\n",
            "Epoch 6/10\n",
            "938/938 [==============================] - 11s 11ms/step - loss: 0.0298 - accuracy: 0.9901\n",
            "Epoch 7/10\n",
            "938/938 [==============================] - 12s 13ms/step - loss: 0.0266 - accuracy: 0.9913\n",
            "Epoch 8/10\n",
            "938/938 [==============================] - 16s 17ms/step - loss: 0.0215 - accuracy: 0.9929\n",
            "Epoch 9/10\n",
            "938/938 [==============================] - 13s 14ms/step - loss: 0.0191 - accuracy: 0.9937\n",
            "Epoch 10/10\n",
            "938/938 [==============================] - 10s 10ms/step - loss: 0.0190 - accuracy: 0.9940\n"
          ]
        }
      ],
      "source": [
        "dnn_classifier_history = dnn_classifier.fit(x_train, y_train, batch_size=BATCH_SIZE, epochs=EPOCHS, verbose=1)"
      ],
      "id": "95969da5-c444-4170-926c-f9adee6f834d"
    },
    {
      "cell_type": "code",
      "execution_count": 11,
      "metadata": {
        "colab": {
          "base_uri": "https://localhost:8080/"
        },
        "id": "b5db1f61-1ce5-442f-ab56-de8d2b97f32b",
        "outputId": "31c5e240-e730-4a55-f865-7eebca50e5eb"
      },
      "outputs": [
        {
          "output_type": "stream",
          "name": "stdout",
          "text": [
            "313/313 [==============================] - 1s 3ms/step - loss: 0.0783 - accuracy: 0.9818\n",
            "Test Acuraccy: 0.9818000197410583\n",
            "Test Loss: 0.078276127576828\n"
          ]
        }
      ],
      "source": [
        "dnn_classifier_score = dnn_classifier.evaluate(x_test, y_test)\n",
        "\n",
        "print(f\"Test Acuraccy: {dnn_classifier_score[1]}\", f\"Test Loss: {dnn_classifier_score[0]}\", sep='\\n')"
      ],
      "id": "b5db1f61-1ce5-442f-ab56-de8d2b97f32b"
    },
    {
      "cell_type": "code",
      "execution_count": 12,
      "metadata": {
        "colab": {
          "base_uri": "https://localhost:8080/"
        },
        "id": "27fb7f9d-1ceb-4e5c-a325-851c6c051655",
        "outputId": "3f4cdd8f-e3fc-48f1-9616-450e1d9daaeb"
      },
      "outputs": [
        {
          "output_type": "stream",
          "name": "stdout",
          "text": [
            "Model: \"sequential_1\"\n",
            "_________________________________________________________________\n",
            " Layer (type)                Output Shape              Param #   \n",
            "=================================================================\n",
            " conv2d (Conv2D)             (None, 28, 28, 32)        832       \n",
            "                                                                 \n",
            " max_pooling2d (MaxPooling2  (None, 27, 27, 32)        0         \n",
            " D)                                                              \n",
            "                                                                 \n",
            " conv2d_1 (Conv2D)           (None, 27, 27, 64)        18496     \n",
            "                                                                 \n",
            " max_pooling2d_1 (MaxPoolin  (None, 13, 13, 64)        0         \n",
            " g2D)                                                            \n",
            "                                                                 \n",
            " dropout (Dropout)           (None, 13, 13, 64)        0         \n",
            "                                                                 \n",
            " flatten_1 (Flatten)         (None, 10816)             0         \n",
            "                                                                 \n",
            " dense_4 (Dense)             (None, 128)               1384576   \n",
            "                                                                 \n",
            " dropout_1 (Dropout)         (None, 128)               0         \n",
            "                                                                 \n",
            " dense_5 (Dense)             (None, 10)                1290      \n",
            "                                                                 \n",
            "=================================================================\n",
            "Total params: 1405194 (5.36 MB)\n",
            "Trainable params: 1405194 (5.36 MB)\n",
            "Non-trainable params: 0 (0.00 Byte)\n",
            "_________________________________________________________________\n"
          ]
        }
      ],
      "source": [
        "cnn_classifier = tf.keras.Sequential([ tf.keras.Input(shape=(28, 28, 1)),\n",
        "                                       tf.keras.layers.Conv2D(filters=32,\n",
        "                                                              kernel_size=5,\n",
        "                                                              strides=(1, 1),\n",
        "                                                              padding='same',\n",
        "                                                              activation=tf.nn.relu),\n",
        "                                       tf.keras.layers.MaxPool2D(pool_size=(2, 2),\n",
        "                                                                 strides=(1, 1),\n",
        "                                                                 padding='valid'),\n",
        "                                       tf.keras.layers.Conv2D(filters=64,\n",
        "                                                              kernel_size=3,\n",
        "                                                              strides=(1, 1),\n",
        "                                                              padding='same',\n",
        "                                                              activation=tf.nn.relu),\n",
        "                                       tf.keras.layers.MaxPool2D(pool_size=(2, 2),\n",
        "                                                                 strides=(2, 2),\n",
        "                                                                 padding='valid'),\n",
        "                                       tf.keras.layers.Dropout(0.25),\n",
        "                                       tf.keras.layers.Flatten(),\n",
        "                                       tf.keras.layers.Dense(128, activation='relu'),\n",
        "                                       tf.keras.layers.Dropout(0.5),\n",
        "                                       tf.keras.layers.Dense(10, activation='softmax') ])\n",
        "\n",
        "cnn_classifier.summary()"
      ],
      "id": "27fb7f9d-1ceb-4e5c-a325-851c6c051655"
    },
    {
      "cell_type": "code",
      "execution_count": 13,
      "metadata": {
        "id": "6b3110c2-0312-4173-a970-576385b9f164"
      },
      "outputs": [],
      "source": [
        "cnn_classifier.compile(loss=tf.keras.losses.categorical_crossentropy,\n",
        "                       optimizer=OPTIMIZER(**OPTIMIZER_PARAMS),\n",
        "                       metrics=[ 'accuracy' ])"
      ],
      "id": "6b3110c2-0312-4173-a970-576385b9f164"
    },
    {
      "cell_type": "code",
      "execution_count": 14,
      "metadata": {
        "colab": {
          "base_uri": "https://localhost:8080/"
        },
        "id": "9a7fbf2e-dfea-4b1f-af79-308288cd7834",
        "outputId": "6032f2f2-70b4-4a2e-ca35-12885cf00832"
      },
      "outputs": [
        {
          "output_type": "stream",
          "name": "stdout",
          "text": [
            "Epoch 1/10\n",
            "938/938 [==============================] - 231s 246ms/step - loss: 0.1818 - accuracy: 0.9457\n",
            "Epoch 2/10\n",
            "938/938 [==============================] - 224s 239ms/step - loss: 0.0731 - accuracy: 0.9778\n",
            "Epoch 3/10\n",
            "938/938 [==============================] - 232s 247ms/step - loss: 0.0560 - accuracy: 0.9829\n",
            "Epoch 4/10\n",
            "938/938 [==============================] - 223s 238ms/step - loss: 0.0455 - accuracy: 0.9859\n",
            "Epoch 5/10\n",
            "938/938 [==============================] - 228s 244ms/step - loss: 0.0392 - accuracy: 0.9876\n",
            "Epoch 6/10\n",
            "938/938 [==============================] - 225s 240ms/step - loss: 0.0342 - accuracy: 0.9897\n",
            "Epoch 7/10\n",
            "938/938 [==============================] - 227s 242ms/step - loss: 0.0315 - accuracy: 0.9903\n",
            "Epoch 8/10\n",
            "938/938 [==============================] - 223s 238ms/step - loss: 0.0296 - accuracy: 0.9908\n",
            "Epoch 9/10\n",
            "938/938 [==============================] - 227s 242ms/step - loss: 0.0231 - accuracy: 0.9925\n",
            "Epoch 10/10\n",
            "938/938 [==============================] - 222s 237ms/step - loss: 0.0242 - accuracy: 0.9925\n"
          ]
        }
      ],
      "source": [
        "cnn_classifier_history = cnn_classifier.fit(x_train, y_train, batch_size=BATCH_SIZE, epochs=EPOCHS, verbose=1)"
      ],
      "id": "9a7fbf2e-dfea-4b1f-af79-308288cd7834"
    },
    {
      "cell_type": "code",
      "execution_count": 15,
      "metadata": {
        "colab": {
          "base_uri": "https://localhost:8080/"
        },
        "id": "a704c6e7-2393-46af-9d39-b467a719169c",
        "outputId": "8b98ede0-18f2-4a5f-ae21-027be527d34f"
      },
      "outputs": [
        {
          "output_type": "stream",
          "name": "stdout",
          "text": [
            "313/313 [==============================] - 14s 44ms/step - loss: 0.0254 - accuracy: 0.9928\n",
            "Test Acuraccy: 0.9927999973297119\n",
            "Test Loss: 0.02538095973432064\n"
          ]
        }
      ],
      "source": [
        "cnn_classifier_score = cnn_classifier.evaluate(x_test, y_test)\n",
        "\n",
        "print(f\"Test Acuraccy: {cnn_classifier_score[1]}\", f\"Test Loss: {cnn_classifier_score[0]}\", sep='\\n')"
      ],
      "id": "a704c6e7-2393-46af-9d39-b467a719169c"
    },
    {
      "cell_type": "code",
      "execution_count": 16,
      "metadata": {
        "colab": {
          "base_uri": "https://localhost:8080/",
          "height": 452
        },
        "id": "aA0aFR0Jaw0P",
        "outputId": "a87441d6-b2d5-48b5-f825-3ffbbe9fbab1"
      },
      "outputs": [
        {
          "output_type": "display_data",
          "data": {
            "text/plain": [
              "<IPython.core.display.Javascript object>"
            ],
            "application/javascript": [
              "\n",
              "    async function download(id, filename, size) {\n",
              "      if (!google.colab.kernel.accessAllowed) {\n",
              "        return;\n",
              "      }\n",
              "      const div = document.createElement('div');\n",
              "      const label = document.createElement('label');\n",
              "      label.textContent = `Downloading \"${filename}\": `;\n",
              "      div.appendChild(label);\n",
              "      const progress = document.createElement('progress');\n",
              "      progress.max = size;\n",
              "      div.appendChild(progress);\n",
              "      document.body.appendChild(div);\n",
              "\n",
              "      const buffers = [];\n",
              "      let downloaded = 0;\n",
              "\n",
              "      const channel = await google.colab.kernel.comms.open(id);\n",
              "      // Send a message to notify the kernel that we're ready.\n",
              "      channel.send({})\n",
              "\n",
              "      for await (const message of channel.messages) {\n",
              "        // Send a message to notify the kernel that we're ready.\n",
              "        channel.send({})\n",
              "        if (message.buffers) {\n",
              "          for (const buffer of message.buffers) {\n",
              "            buffers.push(buffer);\n",
              "            downloaded += buffer.byteLength;\n",
              "            progress.value = downloaded;\n",
              "          }\n",
              "        }\n",
              "      }\n",
              "      const blob = new Blob(buffers, {type: 'application/binary'});\n",
              "      const a = document.createElement('a');\n",
              "      a.href = window.URL.createObjectURL(blob);\n",
              "      a.download = filename;\n",
              "      div.appendChild(a);\n",
              "      a.click();\n",
              "      div.remove();\n",
              "    }\n",
              "  "
            ]
          },
          "metadata": {}
        },
        {
          "output_type": "display_data",
          "data": {
            "text/plain": [
              "<IPython.core.display.Javascript object>"
            ],
            "application/javascript": [
              "download(\"download_3c2ba4e0-7a3d-46b2-88d5-98388320c84d\", \"TRAIN_LOSS_10_64_Adam.png\", 12433)"
            ]
          },
          "metadata": {}
        },
        {
          "output_type": "display_data",
          "data": {
            "text/plain": [
              "<Figure size 640x480 with 1 Axes>"
            ],
            "image/png": "[encoded data removed]"
          },
          "metadata": {}
        }
      ],
      "source": [
        "plt.figure()\n",
        "\n",
        "plt.title('Treino: Erro')\n",
        "\n",
        "plt.plot(dnn_classifier_history.history['loss'], label='DNN')\n",
        "plt.plot(cnn_classifier_history.history['loss'], label='CNN')\n",
        "\n",
        "plt.legend()\n",
        "plt.grid()\n",
        "\n",
        "plt.ylim(ymin=0, ymax=10)\n",
        "plt.xlim(xmin=0, xmax=EPOCHS - 1)\n",
        "\n",
        "plt.show()"
      ],
      "id": "aA0aFR0Jaw0P"
    },
    {
      "cell_type": "code",
      "execution_count": 17,
      "metadata": {
        "colab": {
          "base_uri": "https://localhost:8080/",
          "height": 452
        },
        "id": "IlUBbh3sb48b",
        "outputId": "9f9f7239-fbb9-470a-b305-24399e514493"
      },
      "outputs": [
        {
          "output_type": "display_data",
          "data": {
            "text/plain": [
              "<IPython.core.display.Javascript object>"
            ],
            "application/javascript": [
              "\n",
              "    async function download(id, filename, size) {\n",
              "      if (!google.colab.kernel.accessAllowed) {\n",
              "        return;\n",
              "      }\n",
              "      const div = document.createElement('div');\n",
              "      const label = document.createElement('label');\n",
              "      label.textContent = `Downloading \"${filename}\": `;\n",
              "      div.appendChild(label);\n",
              "      const progress = document.createElement('progress');\n",
              "      progress.max = size;\n",
              "      div.appendChild(progress);\n",
              "      document.body.appendChild(div);\n",
              "\n",
              "      const buffers = [];\n",
              "      let downloaded = 0;\n",
              "\n",
              "      const channel = await google.colab.kernel.comms.open(id);\n",
              "      // Send a message to notify the kernel that we're ready.\n",
              "      channel.send({})\n",
              "\n",
              "      for await (const message of channel.messages) {\n",
              "        // Send a message to notify the kernel that we're ready.\n",
              "        channel.send({})\n",
              "        if (message.buffers) {\n",
              "          for (const buffer of message.buffers) {\n",
              "            buffers.push(buffer);\n",
              "            downloaded += buffer.byteLength;\n",
              "            progress.value = downloaded;\n",
              "          }\n",
              "        }\n",
              "      }\n",
              "      const blob = new Blob(buffers, {type: 'application/binary'});\n",
              "      const a = document.createElement('a');\n",
              "      a.href = window.URL.createObjectURL(blob);\n",
              "      a.download = filename;\n",
              "      div.appendChild(a);\n",
              "      a.click();\n",
              "      div.remove();\n",
              "    }\n",
              "  "
            ]
          },
          "metadata": {}
        },
        {
          "output_type": "display_data",
          "data": {
            "text/plain": [
              "<IPython.core.display.Javascript object>"
            ],
            "application/javascript": [
              "download(\"download_04f77ea3-533e-4c45-b64c-f104f3d8dc00\", \"TRAIN_ACCURACY_10_64_Adam.png\", 15935)"
            ]
          },
          "metadata": {}
        },
        {
          "output_type": "display_data",
          "data": {
            "text/plain": [
              "<Figure size 640x480 with 1 Axes>"
            ],
            "image/png": "[encoded data removed]"
          },
          "metadata": {}
        }
      ],
      "source": [
        "plt.figure()\n",
        "\n",
        "plt.title('Treino: Acurácia')\n",
        "\n",
        "plt.plot(dnn_classifier_history.history['accuracy'], label='DNN')\n",
        "plt.plot(cnn_classifier_history.history['accuracy'], label='CNN')\n",
        "\n",
        "plt.legend()\n",
        "plt.grid()\n",
        "\n",
        "plt.ylim(ymin=0.0, ymax=1)\n",
        "plt.xlim(xmin=0, xmax=EPOCHS - 1)\n",
        "\n",
        "plt.show()"
      ],
      "id": "IlUBbh3sb48b"
    },
    {
      "cell_type": "code",
      "execution_count": 18,
      "metadata": {
        "colab": {
          "base_uri": "https://localhost:8080/",
          "height": 452
        },
        "id": "Xypp190mcjVU",
        "outputId": "f454e3e9-6699-44e8-bd65-0f25ed133349"
      },
      "outputs": [
        {
          "output_type": "display_data",
          "data": {
            "text/plain": [
              "<IPython.core.display.Javascript object>"
            ],
            "application/javascript": [
              "\n",
              "    async function download(id, filename, size) {\n",
              "      if (!google.colab.kernel.accessAllowed) {\n",
              "        return;\n",
              "      }\n",
              "      const div = document.createElement('div');\n",
              "      const label = document.createElement('label');\n",
              "      label.textContent = `Downloading \"${filename}\": `;\n",
              "      div.appendChild(label);\n",
              "      const progress = document.createElement('progress');\n",
              "      progress.max = size;\n",
              "      div.appendChild(progress);\n",
              "      document.body.appendChild(div);\n",
              "\n",
              "      const buffers = [];\n",
              "      let downloaded = 0;\n",
              "\n",
              "      const channel = await google.colab.kernel.comms.open(id);\n",
              "      // Send a message to notify the kernel that we're ready.\n",
              "      channel.send({})\n",
              "\n",
              "      for await (const message of channel.messages) {\n",
              "        // Send a message to notify the kernel that we're ready.\n",
              "        channel.send({})\n",
              "        if (message.buffers) {\n",
              "          for (const buffer of message.buffers) {\n",
              "            buffers.push(buffer);\n",
              "            downloaded += buffer.byteLength;\n",
              "            progress.value = downloaded;\n",
              "          }\n",
              "        }\n",
              "      }\n",
              "      const blob = new Blob(buffers, {type: 'application/binary'});\n",
              "      const a = document.createElement('a');\n",
              "      a.href = window.URL.createObjectURL(blob);\n",
              "      a.download = filename;\n",
              "      div.appendChild(a);\n",
              "      a.click();\n",
              "      div.remove();\n",
              "    }\n",
              "  "
            ]
          },
          "metadata": {}
        },
        {
          "output_type": "display_data",
          "data": {
            "text/plain": [
              "<IPython.core.display.Javascript object>"
            ],
            "application/javascript": [
              "download(\"download_e0fb8491-103c-4890-907c-7b2aef8b85e1\", \"TEST_10_64_Adam.png\", 9851)"
            ]
          },
          "metadata": {}
        },
        {
          "output_type": "display_data",
          "data": {
            "text/plain": [
              "<Figure size 640x480 with 1 Axes>"
            ],
            "image/png": "[encoded data removed]"
          },
          "metadata": {}
        }
      ],
      "source": [
        "plt.figure()\n",
        "\n",
        "plt.title('Teste: Acurácia')\n",
        "\n",
        "plt.bar(x='DNN', height=dnn_classifier_score[1] * 100)\n",
        "plt.bar(x='CNN', height=cnn_classifier_score[1] * 100)\n",
        "\n",
        "plt.ylim(ymin=0, ymax=100)\n",
        "\n",
        "plt.show()"
      ],
      "id": "Xypp190mcjVU"
    }
  ],
  "metadata": {
    "colab": {
      "provenance": []
    },
    "kernelspec": {
      "display_name": "Python 3 (ipykernel)",
      "language": "python",
      "name": "python3"
    },
    "language_info": {
      "codemirror_mode": {
        "name": "ipython",
        "version": 3
      },
      "file_extension": ".py",
      "mimetype": "text/x-python",
      "name": "python",
      "nbconvert_exporter": "python",
      "pygments_lexer": "ipython3",
      "version": "3.11.6"
    }
  },
  "nbformat": 4,
  "nbformat_minor": 5
}